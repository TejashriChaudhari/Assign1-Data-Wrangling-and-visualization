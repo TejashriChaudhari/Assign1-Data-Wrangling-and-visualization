{
 "cells": [
  {
   "cell_type": "markdown",
   "id": "f3ce133e",
   "metadata": {},
   "source": [
    " # 1. Create a null vector of size 10 but the fifth value which is 1."
   ]
  },
  {
   "cell_type": "code",
   "execution_count": 1,
   "id": "db5036ae",
   "metadata": {},
   "outputs": [
    {
     "name": "stdout",
     "output_type": "stream",
     "text": [
      "Null Vector of size 10 but the 5th value is 1 :\n",
      " [0. 0. 0. 0. 1. 0. 0. 0. 0. 0.]\n"
     ]
    }
   ],
   "source": [
    "import numpy as np\n",
    "x=np.zeros(10)\n",
    "x[4]=1\n",
    "print(\"Null Vector of size 10 but the 5th value is 1 :\\n\", x)"
   ]
  },
  {
   "cell_type": "code",
   "execution_count": null,
   "id": "14521a7c",
   "metadata": {},
   "outputs": [],
   "source": []
  },
  {
   "cell_type": "markdown",
   "id": "f80d5de7",
   "metadata": {},
   "source": [
    " # 2. Create a vector with values ranging from 10 to 49."
   ]
  },
  {
   "cell_type": "code",
   "execution_count": 2,
   "id": "1d163d75",
   "metadata": {},
   "outputs": [
    {
     "name": "stdout",
     "output_type": "stream",
     "text": [
      "Vector with values ranging from 10 to 49 :\n",
      " [10 11 12 13 14 15 16 17 18 19 20 21 22 23 24 25 26 27 28 29 30 31 32 33\n",
      " 34 35 36 37 38 39 40 41 42 43 44 45 46 47 48]\n"
     ]
    }
   ],
   "source": [
    "v = np.arange(10,49)\n",
    "print(\"Vector with values ranging from 10 to 49 :\\n\", v)"
   ]
  },
  {
   "cell_type": "code",
   "execution_count": null,
   "id": "312952fa",
   "metadata": {},
   "outputs": [],
   "source": []
  },
  {
   "cell_type": "markdown",
   "id": "5efe7bd4",
   "metadata": {},
   "source": [
    "# 3. Create a 3x3 matrix with values ranging from 0 to 8"
   ]
  },
  {
   "cell_type": "code",
   "execution_count": 3,
   "id": "2015a650",
   "metadata": {},
   "outputs": [
    {
     "name": "stdout",
     "output_type": "stream",
     "text": [
      "[[0 1 2]\n",
      " [3 4 5]\n",
      " [6 7 8]]\n"
     ]
    }
   ],
   "source": [
    "z = np.arange(9).reshape(3,3)\n",
    "print(z)"
   ]
  },
  {
   "cell_type": "code",
   "execution_count": null,
   "id": "884726e9",
   "metadata": {},
   "outputs": [],
   "source": []
  },
  {
   "cell_type": "markdown",
   "id": "16ad4ae1",
   "metadata": {},
   "source": [
    "# 4. Find indices of non-zero elements from [1,2,0,0,4,0]"
   ]
  },
  {
   "cell_type": "code",
   "execution_count": 4,
   "id": "3ee8bd0b",
   "metadata": {},
   "outputs": [
    {
     "data": {
      "text/plain": [
       "(array([0, 1, 4], dtype=int64),)"
      ]
     },
     "execution_count": 4,
     "metadata": {},
     "output_type": "execute_result"
    }
   ],
   "source": [
    "a = np.array([1,2,0,0,4,0])\n",
    "np.where(a > 0)"
   ]
  },
  {
   "cell_type": "code",
   "execution_count": null,
   "id": "ba4850a3",
   "metadata": {},
   "outputs": [],
   "source": []
  },
  {
   "cell_type": "markdown",
   "id": "8aa90828",
   "metadata": {},
   "source": [
    "# 5. Create a 10x10 array with random values and find the minimum and maximum values."
   ]
  },
  {
   "cell_type": "code",
   "execution_count": 5,
   "id": "2d81cfe5",
   "metadata": {},
   "outputs": [
    {
     "name": "stdout",
     "output_type": "stream",
     "text": [
      "Original Array : \n",
      " [[0.55337543 0.60884175 0.16741702 0.29104585 0.84948679 0.63757409\n",
      "  0.87194611 0.94234358 0.66977368 0.39861281]\n",
      " [0.78596064 0.94791645 0.61665771 0.08853363 0.18086823 0.33312027\n",
      "  0.34297444 0.80716907 0.23721562 0.57009306]\n",
      " [0.1465365  0.12467151 0.4544558  0.45309182 0.03357464 0.45297582\n",
      "  0.44529638 0.17621064 0.21300782 0.56949815]\n",
      " [0.64153181 0.81947536 0.70752165 0.12461642 0.52318597 0.32715609\n",
      "  0.01954978 0.42134722 0.72626152 0.36808486]\n",
      " [0.27454629 0.71754084 0.20006386 0.37797307 0.51577714 0.17766008\n",
      "  0.99785089 0.90264905 0.51766915 0.12748168]\n",
      " [0.1364614  0.38262509 0.3656722  0.50705089 0.06265235 0.89082012\n",
      "  0.45681198 0.27619394 0.22445261 0.14201668]\n",
      " [0.11886982 0.97803728 0.234562   0.33434278 0.62320291 0.97091819\n",
      "  0.04762553 0.50884831 0.01216362 0.67735042]\n",
      " [0.78399867 0.73424046 0.86372442 0.17279013 0.64842831 0.64918207\n",
      "  0.39503731 0.51452043 0.18618474 0.77910171]\n",
      " [0.37132694 0.44699238 0.05078796 0.66890278 0.32705328 0.59684738\n",
      "  0.65177475 0.13714682 0.44379107 0.6780285 ]\n",
      " [0.41184621 0.95701754 0.55705001 0.69393131 0.99485051 0.11072486\n",
      "  0.68369184 0.14426227 0.69042415 0.12860309]]\n",
      "Minimum and Maximum Values : \n",
      " 0.012163622766552473 0.9978508915163815\n"
     ]
    }
   ],
   "source": [
    "b = np.random.random((10,10))\n",
    "print(\"Original Array : \\n\", b)\n",
    "bmin, bmax = b.min(), b.max()\n",
    "print(\"Minimum and Maximum Values : \\n\", bmin, bmax)\n"
   ]
  },
  {
   "cell_type": "code",
   "execution_count": null,
   "id": "51f2ab27",
   "metadata": {},
   "outputs": [],
   "source": []
  },
  {
   "cell_type": "markdown",
   "id": "c0ecedfa",
   "metadata": {},
   "source": [
    "# 6. Create a random vector of size 30 and find the mean value."
   ]
  },
  {
   "cell_type": "code",
   "execution_count": 6,
   "id": "f9a820ba",
   "metadata": {},
   "outputs": [
    {
     "name": "stdout",
     "output_type": "stream",
     "text": [
      "Original array : \n",
      " [0.44867763 0.35635834 0.42213743 0.3622015  0.34265935 0.80857971\n",
      " 0.66463161 0.15345599 0.64417259 0.66682819 0.92217351 0.77074077\n",
      " 0.38621789 0.8580512  0.57812048 0.87365107 0.77892335 0.75468855\n",
      " 0.74509394 0.81844607 0.05234527 0.0277327  0.81408436 0.92091189\n",
      " 0.74512148 0.89778193 0.70363483 0.04810454 0.72105823 0.07070394]\n",
      "Mean Value : \n",
      " 0.578576277739972\n"
     ]
    }
   ],
   "source": [
    "c = np.random.random(30)\n",
    "print(\"Original array : \\n\", c)\n",
    "print(\"Mean Value : \\n\", np.mean(c))"
   ]
  },
  {
   "cell_type": "code",
   "execution_count": null,
   "id": "62a7cc6a",
   "metadata": {},
   "outputs": [],
   "source": []
  }
 ],
 "metadata": {
  "kernelspec": {
   "display_name": "Python 3 (ipykernel)",
   "language": "python",
   "name": "python3"
  },
  "language_info": {
   "codemirror_mode": {
    "name": "ipython",
    "version": 3
   },
   "file_extension": ".py",
   "mimetype": "text/x-python",
   "name": "python",
   "nbconvert_exporter": "python",
   "pygments_lexer": "ipython3",
   "version": "3.10.1"
  }
 },
 "nbformat": 4,
 "nbformat_minor": 5
}
